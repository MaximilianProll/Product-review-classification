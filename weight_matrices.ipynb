{
 "cells": [
  {
   "cell_type": "markdown",
   "metadata": {},
   "source": [
    "# Analyse weight matrices  "
   ]
  },
  {
   "cell_type": "markdown",
   "metadata": {},
   "source": [
    "### Organize imports"
   ]
  },
  {
   "cell_type": "code",
   "execution_count": 1,
   "metadata": {},
   "outputs": [],
   "source": [
    "import numpy as np\n",
    "import matplotlib.pyplot as plt\n",
    "import pandas as pd\n",
    "\n",
    "#pd.set_option('display.max_rows', 999)"
   ]
  },
  {
   "cell_type": "markdown",
   "metadata": {},
   "source": [
    "### Set parameters"
   ]
  },
  {
   "cell_type": "code",
   "execution_count": 2,
   "metadata": {},
   "outputs": [],
   "source": [
    "path = 'weights/'\n",
    "n_fc = 4\n",
    "label_g = 'good'\n",
    "label_b = 'bad'\n",
    "tolerance = .02     # tolerance to compare mean_good and mean_bad to 0\n",
    "                    # relative to total range of mean_good and mean_bad"
   ]
  },
  {
   "cell_type": "markdown",
   "metadata": {},
   "source": [
    "### read weight matrices"
   ]
  },
  {
   "cell_type": "code",
   "execution_count": 3,
   "metadata": {},
   "outputs": [],
   "source": [
    "w_good = []\n",
    "w_bad = []\n",
    "\n",
    "for i in range(n_fc):\n",
    "    w_good.append(np.loadtxt(path + label_g + '_dim_' + str(i) + '.csv', delimiter=','))\n",
    "    w_bad.append(np.loadtxt(path + label_b + '_dim_' + str(i) + '.csv', delimiter=','))\n",
    "\n",
    "w_good = np.asarray(w_good)\n",
    "w_bad = np.asarray(w_bad)"
   ]
  },
  {
   "cell_type": "markdown",
   "metadata": {},
   "source": [
    "### compute mean and standard deviation for all 95 input features of the weight matrix in the first dimension w[0]"
   ]
  },
  {
   "cell_type": "code",
   "execution_count": 4,
   "metadata": {},
   "outputs": [],
   "source": [
    "m_good = np.mean(w_good[0], axis=1)\n",
    "m_bad = np.mean(w_bad[0], axis=1)\n",
    "\n",
    "sd_good = np.std(w_good[0], axis=1)\n",
    "sd_bad = np.std(w_bad[0], axis=1)"
   ]
  },
  {
   "cell_type": "markdown",
   "metadata": {},
   "source": [
    "### define total range of mean_good and mean_bad"
   ]
  },
  {
   "cell_type": "code",
   "execution_count": 6,
   "metadata": {},
   "outputs": [],
   "source": [
    "r_bad  = np.max(m_bad)  - np.min(m_bad)\n",
    "r_good = np.max(m_good) - np.min(m_good)"
   ]
  },
  {
   "cell_type": "markdown",
   "metadata": {},
   "source": [
    "### select in-significant inputs features"
   ]
  },
  {
   "cell_type": "code",
   "execution_count": 7,
   "metadata": {},
   "outputs": [],
   "source": [
    "insig_good = np.where(np.isclose(m_good, np.zeros(shape=m_good.shape), rtol=0, atol=tolerance * r_good))[0]\n",
    "insig_bad = np.where(np.isclose(m_bad, np.zeros(shape=m_bad.shape), rtol=0, atol=tolerance * r_bad))[0]"
   ]
  },
  {
   "cell_type": "markdown",
   "metadata": {},
   "source": [
    "### create labels for all 95 input features"
   ]
  },
  {
   "cell_type": "code",
   "execution_count": 8,
   "metadata": {},
   "outputs": [],
   "source": [
    "content_dic = {'Product ID': 1,\n",
    "           'Reviewer ID': 1, \n",
    "           'Product Category': 24, \n",
    "           'Overall Rating': 5, \n",
    "           'Anatomical Encoder': 12,\n",
    "           'Logist Regression' : 2,\n",
    "           'LSTM': 50\n",
    "          }"
   ]
  },
  {
   "cell_type": "code",
   "execution_count": 9,
   "metadata": {},
   "outputs": [],
   "source": [
    "content_ar = []\n",
    "for i in content_dic.keys():\n",
    "    for j in range(content_dic[i]):\n",
    "        content_ar.append(i)\n",
    "content_ar = np.asarray(content_ar)"
   ]
  },
  {
   "cell_type": "markdown",
   "metadata": {},
   "source": [
    "### Resulting in-significant features"
   ]
  },
  {
   "cell_type": "code",
   "execution_count": 10,
   "metadata": {},
   "outputs": [
    {
     "name": "stdout",
     "output_type": "stream",
     "text": [
      "23.0 % of the features from the good weight matrix can be considered as in-significant according to the set tolerance threshold\n",
      "12.0 % of the features from the bad  weight matrix can be considered as in-significant according to the set tolerance threshold\n"
     ]
    }
   ],
   "source": [
    "per_good = np.round(len(insig_good) / len(m_good)*100, 0)\n",
    "per_bad = np.round(len(insig_bad) / len(m_bad) * 100, 0)\n",
    "\n",
    "print(per_good, '% of the features from the good weight matrix can be considered as in-significant according to the set tolerance threshold')\n",
    "print(per_bad , '% of the features from the bad  weight matrix can be considered as in-significant according to the set tolerance threshold')"
   ]
  },
  {
   "cell_type": "code",
   "execution_count": 16,
   "metadata": {},
   "outputs": [
    {
     "data": {
      "text/html": [
       "<div>\n",
       "<style scoped>\n",
       "    .dataframe tbody tr th:only-of-type {\n",
       "        vertical-align: middle;\n",
       "    }\n",
       "\n",
       "    .dataframe tbody tr th {\n",
       "        vertical-align: top;\n",
       "    }\n",
       "\n",
       "    .dataframe thead th {\n",
       "        text-align: right;\n",
       "    }\n",
       "</style>\n",
       "<table border=\"1\" class=\"dataframe\">\n",
       "  <thead>\n",
       "    <tr style=\"text-align: right;\">\n",
       "      <th></th>\n",
       "      <th>insignificant feature category from bad weight matrix</th>\n",
       "      <th>index of insignificant feature category from bad weight matrix</th>\n",
       "      <th>insignificant feature category from good weight matrix</th>\n",
       "      <th>index of insignificant feature category from good weight matrix</th>\n",
       "    </tr>\n",
       "  </thead>\n",
       "  <tbody>\n",
       "    <tr>\n",
       "      <th>0</th>\n",
       "      <td>Product Category</td>\n",
       "      <td>16.0</td>\n",
       "      <td>Product ID</td>\n",
       "      <td>0</td>\n",
       "    </tr>\n",
       "    <tr>\n",
       "      <th>1</th>\n",
       "      <td>LSTM</td>\n",
       "      <td>53.0</td>\n",
       "      <td>Product Category</td>\n",
       "      <td>5</td>\n",
       "    </tr>\n",
       "    <tr>\n",
       "      <th>2</th>\n",
       "      <td>LSTM</td>\n",
       "      <td>55.0</td>\n",
       "      <td>Product Category</td>\n",
       "      <td>10</td>\n",
       "    </tr>\n",
       "    <tr>\n",
       "      <th>3</th>\n",
       "      <td>LSTM</td>\n",
       "      <td>56.0</td>\n",
       "      <td>Product Category</td>\n",
       "      <td>11</td>\n",
       "    </tr>\n",
       "    <tr>\n",
       "      <th>4</th>\n",
       "      <td>LSTM</td>\n",
       "      <td>65.0</td>\n",
       "      <td>Product Category</td>\n",
       "      <td>17</td>\n",
       "    </tr>\n",
       "    <tr>\n",
       "      <th>5</th>\n",
       "      <td>LSTM</td>\n",
       "      <td>69.0</td>\n",
       "      <td>Product Category</td>\n",
       "      <td>20</td>\n",
       "    </tr>\n",
       "    <tr>\n",
       "      <th>6</th>\n",
       "      <td>LSTM</td>\n",
       "      <td>70.0</td>\n",
       "      <td>Product Category</td>\n",
       "      <td>22</td>\n",
       "    </tr>\n",
       "    <tr>\n",
       "      <th>7</th>\n",
       "      <td>LSTM</td>\n",
       "      <td>72.0</td>\n",
       "      <td>Product Category</td>\n",
       "      <td>25</td>\n",
       "    </tr>\n",
       "    <tr>\n",
       "      <th>8</th>\n",
       "      <td>LSTM</td>\n",
       "      <td>75.0</td>\n",
       "      <td>Anatomical Encoder</td>\n",
       "      <td>31</td>\n",
       "    </tr>\n",
       "    <tr>\n",
       "      <th>9</th>\n",
       "      <td>LSTM</td>\n",
       "      <td>78.0</td>\n",
       "      <td>Anatomical Encoder</td>\n",
       "      <td>33</td>\n",
       "    </tr>\n",
       "    <tr>\n",
       "      <th>10</th>\n",
       "      <td>LSTM</td>\n",
       "      <td>89.0</td>\n",
       "      <td>Anatomical Encoder</td>\n",
       "      <td>36</td>\n",
       "    </tr>\n",
       "    <tr>\n",
       "      <th>11</th>\n",
       "      <td>NaN</td>\n",
       "      <td>NaN</td>\n",
       "      <td>Anatomical Encoder</td>\n",
       "      <td>38</td>\n",
       "    </tr>\n",
       "    <tr>\n",
       "      <th>12</th>\n",
       "      <td>NaN</td>\n",
       "      <td>NaN</td>\n",
       "      <td>Anatomical Encoder</td>\n",
       "      <td>41</td>\n",
       "    </tr>\n",
       "    <tr>\n",
       "      <th>13</th>\n",
       "      <td>NaN</td>\n",
       "      <td>NaN</td>\n",
       "      <td>LSTM</td>\n",
       "      <td>46</td>\n",
       "    </tr>\n",
       "    <tr>\n",
       "      <th>14</th>\n",
       "      <td>NaN</td>\n",
       "      <td>NaN</td>\n",
       "      <td>LSTM</td>\n",
       "      <td>47</td>\n",
       "    </tr>\n",
       "    <tr>\n",
       "      <th>15</th>\n",
       "      <td>NaN</td>\n",
       "      <td>NaN</td>\n",
       "      <td>LSTM</td>\n",
       "      <td>53</td>\n",
       "    </tr>\n",
       "    <tr>\n",
       "      <th>16</th>\n",
       "      <td>NaN</td>\n",
       "      <td>NaN</td>\n",
       "      <td>LSTM</td>\n",
       "      <td>55</td>\n",
       "    </tr>\n",
       "    <tr>\n",
       "      <th>17</th>\n",
       "      <td>NaN</td>\n",
       "      <td>NaN</td>\n",
       "      <td>LSTM</td>\n",
       "      <td>60</td>\n",
       "    </tr>\n",
       "    <tr>\n",
       "      <th>18</th>\n",
       "      <td>NaN</td>\n",
       "      <td>NaN</td>\n",
       "      <td>LSTM</td>\n",
       "      <td>69</td>\n",
       "    </tr>\n",
       "    <tr>\n",
       "      <th>19</th>\n",
       "      <td>NaN</td>\n",
       "      <td>NaN</td>\n",
       "      <td>LSTM</td>\n",
       "      <td>71</td>\n",
       "    </tr>\n",
       "    <tr>\n",
       "      <th>20</th>\n",
       "      <td>NaN</td>\n",
       "      <td>NaN</td>\n",
       "      <td>LSTM</td>\n",
       "      <td>75</td>\n",
       "    </tr>\n",
       "    <tr>\n",
       "      <th>21</th>\n",
       "      <td>NaN</td>\n",
       "      <td>NaN</td>\n",
       "      <td>LSTM</td>\n",
       "      <td>92</td>\n",
       "    </tr>\n",
       "  </tbody>\n",
       "</table>\n",
       "</div>"
      ],
      "text/plain": [
       "   insignificant feature category from bad weight matrix  \\\n",
       "0                                    Product Category      \n",
       "1                                                LSTM      \n",
       "2                                                LSTM      \n",
       "3                                                LSTM      \n",
       "4                                                LSTM      \n",
       "5                                                LSTM      \n",
       "6                                                LSTM      \n",
       "7                                                LSTM      \n",
       "8                                                LSTM      \n",
       "9                                                LSTM      \n",
       "10                                               LSTM      \n",
       "11                                                NaN      \n",
       "12                                                NaN      \n",
       "13                                                NaN      \n",
       "14                                                NaN      \n",
       "15                                                NaN      \n",
       "16                                                NaN      \n",
       "17                                                NaN      \n",
       "18                                                NaN      \n",
       "19                                                NaN      \n",
       "20                                                NaN      \n",
       "21                                                NaN      \n",
       "\n",
       "    index of insignificant feature category from bad weight matrix  \\\n",
       "0                                                16.0                \n",
       "1                                                53.0                \n",
       "2                                                55.0                \n",
       "3                                                56.0                \n",
       "4                                                65.0                \n",
       "5                                                69.0                \n",
       "6                                                70.0                \n",
       "7                                                72.0                \n",
       "8                                                75.0                \n",
       "9                                                78.0                \n",
       "10                                               89.0                \n",
       "11                                                NaN                \n",
       "12                                                NaN                \n",
       "13                                                NaN                \n",
       "14                                                NaN                \n",
       "15                                                NaN                \n",
       "16                                                NaN                \n",
       "17                                                NaN                \n",
       "18                                                NaN                \n",
       "19                                                NaN                \n",
       "20                                                NaN                \n",
       "21                                                NaN                \n",
       "\n",
       "   insignificant feature category from good weight matrix  \\\n",
       "0                                          Product ID       \n",
       "1                                    Product Category       \n",
       "2                                    Product Category       \n",
       "3                                    Product Category       \n",
       "4                                    Product Category       \n",
       "5                                    Product Category       \n",
       "6                                    Product Category       \n",
       "7                                    Product Category       \n",
       "8                                  Anatomical Encoder       \n",
       "9                                  Anatomical Encoder       \n",
       "10                                 Anatomical Encoder       \n",
       "11                                 Anatomical Encoder       \n",
       "12                                 Anatomical Encoder       \n",
       "13                                               LSTM       \n",
       "14                                               LSTM       \n",
       "15                                               LSTM       \n",
       "16                                               LSTM       \n",
       "17                                               LSTM       \n",
       "18                                               LSTM       \n",
       "19                                               LSTM       \n",
       "20                                               LSTM       \n",
       "21                                               LSTM       \n",
       "\n",
       "    index of insignificant feature category from good weight matrix  \n",
       "0                                                   0                \n",
       "1                                                   5                \n",
       "2                                                  10                \n",
       "3                                                  11                \n",
       "4                                                  17                \n",
       "5                                                  20                \n",
       "6                                                  22                \n",
       "7                                                  25                \n",
       "8                                                  31                \n",
       "9                                                  33                \n",
       "10                                                 36                \n",
       "11                                                 38                \n",
       "12                                                 41                \n",
       "13                                                 46                \n",
       "14                                                 47                \n",
       "15                                                 53                \n",
       "16                                                 55                \n",
       "17                                                 60                \n",
       "18                                                 69                \n",
       "19                                                 71                \n",
       "20                                                 75                \n",
       "21                                                 92                "
      ]
     },
     "execution_count": 16,
     "metadata": {},
     "output_type": "execute_result"
    }
   ],
   "source": [
    "df_insig = pd.concat(\n",
    "        [\n",
    "            pd.DataFrame(content_ar[insig_bad], columns={ 'insignificant feature category from bad weight matrix'}),\n",
    "            pd.DataFrame(insig_bad, columns={ 'index of insignificant feature category from bad weight matrix'}),\n",
    "            pd.DataFrame(content_ar[insig_good], columns={'insignificant feature category from good weight matrix'}),\n",
    "            pd.DataFrame(insig_good, columns={'index of insignificant feature category from good weight matrix'})\n",
    "        ],\n",
    "    axis=1, ignore_index=False\n",
    ")\n",
    "\n",
    "df_insig.head(max(len(insig_bad),len(insig_good)))"
   ]
  },
  {
   "cell_type": "markdown",
   "metadata": {},
   "source": [
    "### create normalized importance plot"
   ]
  },
  {
   "cell_type": "code",
   "execution_count": 17,
   "metadata": {},
   "outputs": [
    {
     "data": {
      "text/html": [
       "<div>\n",
       "<style scoped>\n",
       "    .dataframe tbody tr th:only-of-type {\n",
       "        vertical-align: middle;\n",
       "    }\n",
       "\n",
       "    .dataframe tbody tr th {\n",
       "        vertical-align: top;\n",
       "    }\n",
       "\n",
       "    .dataframe thead th {\n",
       "        text-align: right;\n",
       "    }\n",
       "</style>\n",
       "<table border=\"1\" class=\"dataframe\">\n",
       "  <thead>\n",
       "    <tr style=\"text-align: right;\">\n",
       "      <th></th>\n",
       "      <th>normalized importance good</th>\n",
       "      <th>normalized importance bad</th>\n",
       "    </tr>\n",
       "  </thead>\n",
       "  <tbody>\n",
       "    <tr>\n",
       "      <th>Product ID</th>\n",
       "      <td>0.001412</td>\n",
       "      <td>-0.007667</td>\n",
       "    </tr>\n",
       "    <tr>\n",
       "      <th>Reviewer ID</th>\n",
       "      <td>0.015775</td>\n",
       "      <td>-0.017646</td>\n",
       "    </tr>\n",
       "    <tr>\n",
       "      <th>Product Category</th>\n",
       "      <td>-0.000682</td>\n",
       "      <td>0.004521</td>\n",
       "    </tr>\n",
       "    <tr>\n",
       "      <th>Overall Rating</th>\n",
       "      <td>-0.000015</td>\n",
       "      <td>0.006399</td>\n",
       "    </tr>\n",
       "    <tr>\n",
       "      <th>Anatomical Encoder</th>\n",
       "      <td>-0.003544</td>\n",
       "      <td>-0.003539</td>\n",
       "    </tr>\n",
       "    <tr>\n",
       "      <th>Logist Regression</th>\n",
       "      <td>-0.003081</td>\n",
       "      <td>0.003587</td>\n",
       "    </tr>\n",
       "    <tr>\n",
       "      <th>LSTM</th>\n",
       "      <td>0.017294</td>\n",
       "      <td>0.013505</td>\n",
       "    </tr>\n",
       "  </tbody>\n",
       "</table>\n",
       "</div>"
      ],
      "text/plain": [
       "                    normalized importance good  normalized importance bad\n",
       "Product ID                            0.001412                  -0.007667\n",
       "Reviewer ID                           0.015775                  -0.017646\n",
       "Product Category                     -0.000682                   0.004521\n",
       "Overall Rating                       -0.000015                   0.006399\n",
       "Anatomical Encoder                   -0.003544                  -0.003539\n",
       "Logist Regression                    -0.003081                   0.003587\n",
       "LSTM                                  0.017294                   0.013505"
      ]
     },
     "execution_count": 17,
     "metadata": {},
     "output_type": "execute_result"
    }
   ],
   "source": [
    "importance_good = []\n",
    "importance_bad = []\n",
    "label = []\n",
    "\n",
    "for i in content_dic.keys():\n",
    "    importance_good.append(np.mean(m_good[content_ar == i ]))\n",
    "    importance_bad.append(np.mean(m_bad[content_ar == i ]))\n",
    "    label.append(i)\n",
    "\n",
    "mapping = {l:i for i, l in enumerate(label)}\n",
    "\n",
    "df_importance = pd.concat(\n",
    "        [\n",
    "            pd.DataFrame(importance_good, columns={'normalized importance good'}, index=label),\n",
    "            pd.DataFrame(importance_bad, columns={'normalized importance bad'}, index=label)\n",
    "        ],\n",
    "    axis=1\n",
    ")\n",
    "\n",
    "df_importance.head(len(label))"
   ]
  },
  {
   "cell_type": "code",
   "execution_count": 13,
   "metadata": {},
   "outputs": [
    {
     "data": {
      "image/png": "[encoded data removed]",
      "text/plain": [
       "<matplotlib.figure.Figure at 0x115006a20>"
      ]
     },
     "metadata": {},
     "output_type": "display_data"
    }
   ],
   "source": [
    "df_importance.plot.bar(figsize=(11,6), title='Normalized importance of feature categories for good and bad weights', rot=20).get_figure().savefig('weights/plot_importance.png', dpi=300)"
   ]
  },
  {
   "cell_type": "code",
   "execution_count": 14,
   "metadata": {},
   "outputs": [
    {
     "data": {
      "text/html": [
       "<div>\n",
       "<style scoped>\n",
       "    .dataframe tbody tr th:only-of-type {\n",
       "        vertical-align: middle;\n",
       "    }\n",
       "\n",
       "    .dataframe tbody tr th {\n",
       "        vertical-align: top;\n",
       "    }\n",
       "\n",
       "    .dataframe thead th {\n",
       "        text-align: right;\n",
       "    }\n",
       "</style>\n",
       "<table border=\"1\" class=\"dataframe\">\n",
       "  <thead>\n",
       "    <tr style=\"text-align: right;\">\n",
       "      <th></th>\n",
       "      <th>mean good</th>\n",
       "      <th>mean bad</th>\n",
       "      <th>category</th>\n",
       "    </tr>\n",
       "  </thead>\n",
       "  <tbody>\n",
       "    <tr>\n",
       "      <th>0</th>\n",
       "      <td>0.001412</td>\n",
       "      <td>-0.007667</td>\n",
       "      <td>Product ID</td>\n",
       "    </tr>\n",
       "    <tr>\n",
       "      <th>1</th>\n",
       "      <td>0.015775</td>\n",
       "      <td>-0.017646</td>\n",
       "      <td>Reviewer ID</td>\n",
       "    </tr>\n",
       "    <tr>\n",
       "      <th>2</th>\n",
       "      <td>-0.016512</td>\n",
       "      <td>0.010544</td>\n",
       "      <td>Product Category</td>\n",
       "    </tr>\n",
       "    <tr>\n",
       "      <th>3</th>\n",
       "      <td>-0.014229</td>\n",
       "      <td>-0.015665</td>\n",
       "      <td>Product Category</td>\n",
       "    </tr>\n",
       "    <tr>\n",
       "      <th>4</th>\n",
       "      <td>-0.012326</td>\n",
       "      <td>0.011071</td>\n",
       "      <td>Product Category</td>\n",
       "    </tr>\n",
       "  </tbody>\n",
       "</table>\n",
       "</div>"
      ],
      "text/plain": [
       "   mean good  mean bad          category\n",
       "0   0.001412 -0.007667        Product ID\n",
       "1   0.015775 -0.017646       Reviewer ID\n",
       "2  -0.016512  0.010544  Product Category\n",
       "3  -0.014229 -0.015665  Product Category\n",
       "4  -0.012326  0.011071  Product Category"
      ]
     },
     "execution_count": 14,
     "metadata": {},
     "output_type": "execute_result"
    }
   ],
   "source": [
    "df_weight = pd.concat(\n",
    "        [\n",
    "            pd.DataFrame(m_good, columns={'mean good'}),\n",
    "            pd.DataFrame(m_bad, columns={'mean bad'}),\n",
    "            pd.DataFrame(content_ar, columns={'category'})\n",
    "        ],\n",
    "    axis=1\n",
    ")\n",
    "#df_weight = df_weight.groupby(['category'])\n",
    "df_weight.head()"
   ]
  },
  {
   "cell_type": "code",
   "execution_count": 15,
   "metadata": {},
   "outputs": [
    {
     "data": {
      "image/png": "[encoded data removed]",
      "text/plain": [
       "<matplotlib.figure.Figure at 0x1150bc390>"
      ]
     },
     "metadata": {},
     "output_type": "display_data"
    }
   ],
   "source": [
    "df_weight.plot.bar(figsize=(11,6), title='weight of all 95 features for good and bad weights', rot=90, fontsize=6).get_figure().savefig('weights/plot_weights.png', dpi=300)"
   ]
  }
 ],
 "metadata": {
  "kernelspec": {
   "display_name": "Python 3",
   "language": "python",
   "name": "python3"
  },
  "language_info": {
   "codemirror_mode": {
    "name": "ipython",
    "version": 3
   },
   "file_extension": ".py",
   "mimetype": "text/x-python",
   "name": "python",
   "nbconvert_exporter": "python",
   "pygments_lexer": "ipython3",
   "version": "3.6.4"
  }
 },
 "nbformat": 4,
 "nbformat_minor": 2
}
