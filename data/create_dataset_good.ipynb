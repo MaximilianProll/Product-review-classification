{
 "cells": [
  {
   "cell_type": "markdown",
   "metadata": {},
   "source": [
    "### Organize imports"
   ]
  },
  {
   "cell_type": "code",
   "execution_count": 2,
   "metadata": {
    "collapsed": false
   },
   "outputs": [],
   "source": [
    "import json\n",
    "import pandas as pd\n",
    "import nltk\n",
    "from nltk import word_tokenize\n",
    "from nltk.corpus import stopwords\n",
    "import numpy as np\n",
    "import random\n",
    "import re\n",
    "import string"
   ]
  },
  {
   "cell_type": "markdown",
   "metadata": {},
   "source": [
    "### Set parameters"
   ]
  },
  {
   "cell_type": "code",
   "execution_count": 3,
   "metadata": {
    "collapsed": true
   },
   "outputs": [],
   "source": [
    "num_good = 100000\n",
    "num_bad = 50000\n",
    "num_neutral = 50000\n",
    "dataset_src_fn = '/Users/kaushiksurikuchi/Downloads/deskewed_shuffled_dataset.json'\n",
    "final_df_name = 'data/full_cols_good.csv'"
   ]
  },
  {
   "cell_type": "markdown",
   "metadata": {},
   "source": [
    "### Load full dataset"
   ]
  },
  {
   "cell_type": "code",
   "execution_count": 4,
   "metadata": {
    "collapsed": false
   },
   "outputs": [
    {
     "name": "stdout",
     "output_type": "stream",
     "text": [
      "Creating dataframe...\n"
     ]
    },
    {
     "data": {
      "text/html": [
       "<div>\n",
       "<style scoped>\n",
       "    .dataframe tbody tr th:only-of-type {\n",
       "        vertical-align: middle;\n",
       "    }\n",
       "\n",
       "    .dataframe tbody tr th {\n",
       "        vertical-align: top;\n",
       "    }\n",
       "\n",
       "    .dataframe thead th {\n",
       "        text-align: right;\n",
       "    }\n",
       "</style>\n",
       "<table border=\"1\" class=\"dataframe\">\n",
       "  <thead>\n",
       "    <tr style=\"text-align: right;\">\n",
       "      <th></th>\n",
       "      <th>reviewer_id</th>\n",
       "      <th>asin</th>\n",
       "      <th>review_text</th>\n",
       "      <th>overall</th>\n",
       "      <th>category</th>\n",
       "      <th>good</th>\n",
       "      <th>bad</th>\n",
       "    </tr>\n",
       "  </thead>\n",
       "  <tbody>\n",
       "    <tr>\n",
       "      <th>0</th>\n",
       "      <td>AI0OAQ6E2O8VF</td>\n",
       "      <td>B002M36R1O</td>\n",
       "      <td>Criterion's most unique release so far This DV...</td>\n",
       "      <td>4.0</td>\n",
       "      <td>15</td>\n",
       "      <td>0</td>\n",
       "      <td>0</td>\n",
       "    </tr>\n",
       "    <tr>\n",
       "      <th>1</th>\n",
       "      <td>A2W2GPF65X51SF</td>\n",
       "      <td>B007Y2PMJQ</td>\n",
       "      <td>Extremely disappointing This is one of the fir...</td>\n",
       "      <td>1.0</td>\n",
       "      <td>5</td>\n",
       "      <td>1</td>\n",
       "      <td>0</td>\n",
       "    </tr>\n",
       "    <tr>\n",
       "      <th>2</th>\n",
       "      <td>A2WE1FKSL1I38D</td>\n",
       "      <td>B001AQTWF2</td>\n",
       "      <td>Hard to Look Past the Cracks &amp; Strain In Whit'...</td>\n",
       "      <td>1.0</td>\n",
       "      <td>6</td>\n",
       "      <td>0</td>\n",
       "      <td>0</td>\n",
       "    </tr>\n",
       "    <tr>\n",
       "      <th>3</th>\n",
       "      <td>A11XUKQIBVXY77</td>\n",
       "      <td>B0015LPS1E</td>\n",
       "      <td>A little tired, but... I enjoyed this one.  I'...</td>\n",
       "      <td>3.0</td>\n",
       "      <td>15</td>\n",
       "      <td>0</td>\n",
       "      <td>0</td>\n",
       "    </tr>\n",
       "    <tr>\n",
       "      <th>4</th>\n",
       "      <td>AF3X7J0XC391L</td>\n",
       "      <td>0750933372</td>\n",
       "      <td>How did sheep survive among such wolves? As Je...</td>\n",
       "      <td>4.0</td>\n",
       "      <td>5</td>\n",
       "      <td>1</td>\n",
       "      <td>0</td>\n",
       "    </tr>\n",
       "  </tbody>\n",
       "</table>\n",
       "</div>"
      ],
      "text/plain": [
       "      reviewer_id        asin  \\\n",
       "0   AI0OAQ6E2O8VF  B002M36R1O   \n",
       "1  A2W2GPF65X51SF  B007Y2PMJQ   \n",
       "2  A2WE1FKSL1I38D  B001AQTWF2   \n",
       "3  A11XUKQIBVXY77  B0015LPS1E   \n",
       "4   AF3X7J0XC391L  0750933372   \n",
       "\n",
       "                                         review_text  overall  category  good  \\\n",
       "0  Criterion's most unique release so far This DV...      4.0        15     0   \n",
       "1  Extremely disappointing This is one of the fir...      1.0         5     1   \n",
       "2  Hard to Look Past the Cracks & Strain In Whit'...      1.0         6     0   \n",
       "3  A little tired, but... I enjoyed this one.  I'...      3.0        15     0   \n",
       "4  How did sheep survive among such wolves? As Je...      4.0         5     1   \n",
       "\n",
       "   bad  \n",
       "0    0  \n",
       "1    0  \n",
       "2    0  \n",
       "3    0  \n",
       "4    0  "
      ]
     },
     "execution_count": 4,
     "metadata": {},
     "output_type": "execute_result"
    }
   ],
   "source": [
    "category_map = {\n",
    "    \"Amazon_Instant_Video\" : 0,\n",
    "    \"Apps_for_Android\" : 1,\n",
    "    \"Automotive\" : 2,\n",
    "    \"Baby\" : 3,\n",
    "    \"Beauty\" : 4,\n",
    "    \"Books\" : 5,\n",
    "    \"CDs_and_Vinyl\" : 6,\n",
    "    \"Cell_Phones_and_Accessories\" : 7,\n",
    "    \"Clothing_Shoes_and_Jewelry\" : 8,\n",
    "    \"Digital_Music\" : 9,\n",
    "    \"Electronics\" : 10,\n",
    "    \"Grocery_and_Gourmet_Food\" : 11,\n",
    "    \"Health_and_Personal_Care\" : 12,\n",
    "    \"Home_and_Kitchen\" : 13,\n",
    "    \"Kindle_Store\" : 14,\n",
    "    \"Movies_and_TV\" : 15,\n",
    "    \"Musical_Instruments\" : 16,\n",
    "    \"Office_Products\" : 17,\n",
    "    \"Patio_Lawn_and_Garden\" : 18,\n",
    "    \"Pet_Supplies\" : 19,\n",
    "    \"Sports_and_Outdoors\" : 20,\n",
    "    \"Tools_and_Home_Improvement\" : 21,\n",
    "    \"Toys_and_Games\" : 22,\n",
    "    \"Video_Games\" : 23\n",
    "}\n",
    "\n",
    "col_names = [\"reviewer_id\", \"asin\", \"review_text\", \"overall\", \"category\", \n",
    "             \"good\", \"bad\"]\n",
    "\n",
    "def read_dataset(fn):\n",
    "    data = []\n",
    "    with open(fn) as f:\n",
    "        for line in f:\n",
    "            d = json.loads(line)\n",
    "            pf, tf = d[\"helpful\"]\n",
    "            score = (1.0 * pf) / (1.0 * tf)\n",
    "            row = [d[\"reviewerID\"], \n",
    "                   d[\"asin\"], \n",
    "                   d[\"summary\"] + ' ' + d[\"reviewText\"],\n",
    "                   d[\"overall\"],\n",
    "                   category_map[d[\"category\"]],\n",
    "                   int(score > 0.80),\n",
    "                   int(score <= 0.20)]\n",
    "            data.append(row)\n",
    "    return pd.DataFrame(data, columns=col_names)\n",
    "\n",
    "print('Creating dataframe...')\n",
    "df = read_dataset(dataset_src_fn)\n",
    "df = df.sample(frac=1).reset_index(drop=True) # Randomize entry order\n",
    "df.head()"
   ]
  },
  {
   "cell_type": "markdown",
   "metadata": {},
   "source": [
    "### Prune dataset"
   ]
  },
  {
   "cell_type": "code",
   "execution_count": 5,
   "metadata": {
    "collapsed": false
   },
   "outputs": [
    {
     "name": "stdout",
     "output_type": "stream",
     "text": [
      "100000 50000 50000\n"
     ]
    }
   ],
   "source": [
    "df_good = df.loc[df['good'] == 1]\n",
    "df_good = df_good.sample(frac=1).reset_index(drop=True)\n",
    "df_good.drop(df_good.index[num_good:], inplace=True)\n",
    "\n",
    "df_bad = df.loc[df['bad'] == 1]\n",
    "df_bad = df_bad.sample(frac=1).reset_index(drop=True)\n",
    "df_bad.drop(df_bad.index[num_bad:], inplace=True)\n",
    "\n",
    "df_neutral = df.loc[(df['good'] == 0) & (df['bad'] == 0)]\n",
    "df_neutral = df_neutral.sample(frac=1).reset_index(drop=True)\n",
    "df_neutral.drop(df_neutral.index[num_neutral:], inplace=True)\n",
    "\n",
    "print(len(df_good), len(df_bad), len(df_neutral))"
   ]
  },
  {
   "cell_type": "code",
   "execution_count": 7,
   "metadata": {
    "collapsed": false
   },
   "outputs": [
    {
     "name": "stdout",
     "output_type": "stream",
     "text": [
      "Number of entries: 200000\n",
      "Good count: 100000\n",
      "Bad count: 50000\n",
      "Neutral count: 50000\n"
     ]
    },
    {
     "data": {
      "text/html": [
       "<div>\n",
       "<style scoped>\n",
       "    .dataframe tbody tr th:only-of-type {\n",
       "        vertical-align: middle;\n",
       "    }\n",
       "\n",
       "    .dataframe tbody tr th {\n",
       "        vertical-align: top;\n",
       "    }\n",
       "\n",
       "    .dataframe thead th {\n",
       "        text-align: right;\n",
       "    }\n",
       "</style>\n",
       "<table border=\"1\" class=\"dataframe\">\n",
       "  <thead>\n",
       "    <tr style=\"text-align: right;\">\n",
       "      <th></th>\n",
       "      <th>reviewer_id</th>\n",
       "      <th>asin</th>\n",
       "      <th>review_text</th>\n",
       "      <th>overall</th>\n",
       "      <th>category</th>\n",
       "      <th>good</th>\n",
       "      <th>bad</th>\n",
       "    </tr>\n",
       "  </thead>\n",
       "  <tbody>\n",
       "    <tr>\n",
       "      <th>0</th>\n",
       "      <td>A23Y9RGNUBONZK</td>\n",
       "      <td>158314045X</td>\n",
       "      <td>I LOVED IT LOVED IT LOVED IT LOVED IT I am not...</td>\n",
       "      <td>5.0</td>\n",
       "      <td>5</td>\n",
       "      <td>1</td>\n",
       "      <td>0</td>\n",
       "    </tr>\n",
       "    <tr>\n",
       "      <th>1</th>\n",
       "      <td>A32NXKGY4Z9O4C</td>\n",
       "      <td>B001BX4NR6</td>\n",
       "      <td>One of the better cameras in this price range ...</td>\n",
       "      <td>5.0</td>\n",
       "      <td>10</td>\n",
       "      <td>1</td>\n",
       "      <td>0</td>\n",
       "    </tr>\n",
       "    <tr>\n",
       "      <th>2</th>\n",
       "      <td>AEBOD21JROJ4G</td>\n",
       "      <td>B0000CEUM7</td>\n",
       "      <td>Now I use my computer instead of the other way...</td>\n",
       "      <td>5.0</td>\n",
       "      <td>10</td>\n",
       "      <td>1</td>\n",
       "      <td>0</td>\n",
       "    </tr>\n",
       "    <tr>\n",
       "      <th>3</th>\n",
       "      <td>A24N1BAS3CU27H</td>\n",
       "      <td>B001KL3GZE</td>\n",
       "      <td>At last!!! I first came across Irish Singer So...</td>\n",
       "      <td>5.0</td>\n",
       "      <td>6</td>\n",
       "      <td>1</td>\n",
       "      <td>0</td>\n",
       "    </tr>\n",
       "    <tr>\n",
       "      <th>4</th>\n",
       "      <td>A2QWMT9F3LUSHC</td>\n",
       "      <td>B0000C3I4A</td>\n",
       "      <td>Did I get a different version than everyone he...</td>\n",
       "      <td>5.0</td>\n",
       "      <td>6</td>\n",
       "      <td>1</td>\n",
       "      <td>0</td>\n",
       "    </tr>\n",
       "  </tbody>\n",
       "</table>\n",
       "</div>"
      ],
      "text/plain": [
       "      reviewer_id        asin  \\\n",
       "0  A23Y9RGNUBONZK  158314045X   \n",
       "1  A32NXKGY4Z9O4C  B001BX4NR6   \n",
       "2   AEBOD21JROJ4G  B0000CEUM7   \n",
       "3  A24N1BAS3CU27H  B001KL3GZE   \n",
       "4  A2QWMT9F3LUSHC  B0000C3I4A   \n",
       "\n",
       "                                         review_text  overall  category  good  \\\n",
       "0  I LOVED IT LOVED IT LOVED IT LOVED IT I am not...      5.0         5     1   \n",
       "1  One of the better cameras in this price range ...      5.0        10     1   \n",
       "2  Now I use my computer instead of the other way...      5.0        10     1   \n",
       "3  At last!!! I first came across Irish Singer So...      5.0         6     1   \n",
       "4  Did I get a different version than everyone he...      5.0         6     1   \n",
       "\n",
       "   bad  \n",
       "0    0  \n",
       "1    0  \n",
       "2    0  \n",
       "3    0  \n",
       "4    0  "
      ]
     },
     "execution_count": 7,
     "metadata": {},
     "output_type": "execute_result"
    }
   ],
   "source": [
    "df_min = pd.concat([df_good, df_bad, df_neutral], axis=0, join='outer', ignore_index=True)\n",
    "df_min = df_min.sample(frac=1).reset_index(drop=True)\n",
    "del df, df_good, df_bad, df_neutral # Free memory\n",
    "print(\"Number of entries:\", len(df_min))\n",
    "print(\"Good count:\", len(df_min.loc[df_min['good'] == 1]))\n",
    "print(\"Bad count:\", len(df_min.loc[df_min['bad'] == 1]))\n",
    "print(\"Neutral count:\", len(df_min.loc[(df_min['good'] == 0) & (df_min['bad'] == 0)]))\n",
    "df_min.head()"
   ]
  },
  {
   "cell_type": "markdown",
   "metadata": {},
   "source": [
    "### Normalize review text"
   ]
  },
  {
   "cell_type": "code",
   "execution_count": null,
   "metadata": {
    "collapsed": false
   },
   "outputs": [
    {
     "name": "stdout",
     "output_type": "stream",
     "text": [
      "Entry 1/200000.\n",
      "Entry 10001/200000.\n",
      "Entry 20001/200000.\n",
      "Entry 30001/200000.\n",
      "Entry 40001/200000.\n",
      "Entry 50001/200000.\n",
      "Entry 60001/200000.\n"
     ]
    }
   ],
   "source": [
    "stop_words = stopwords.words('english')\n",
    "word_pattern = re.compile(\"[A-Za-z]+\")\n",
    "n_entries = len(df_min)\n",
    "df_norm = pd.DataFrame(columns=col_names, index=range(n_entries))\n",
    "\n",
    "def normalize_review_text(text):\n",
    "    def norm_filter(w):\n",
    "        return w not in stop_words and \\\n",
    "               len(w) > 2\n",
    "    tokens = nltk.regexp_tokenize(text.lower(), word_pattern)\n",
    "    return ' '.join(filter(norm_filter, tokens))\n",
    "\n",
    "for idx in range(n_entries):\n",
    "    row = df_min.iloc[idx]\n",
    "    norm_text = normalize_review_text(row['review_text'])\n",
    "    df_norm.iloc[idx] = [\n",
    "        row['reviewer_id'],\n",
    "        row['asin'],\n",
    "        norm_text,\n",
    "        row['overall'],\n",
    "        row['category'],\n",
    "        row['good'],\n",
    "        row['bad']\n",
    "    ]\n",
    "    if idx % 10000 == 0 or idx + 1 == n_entries:\n",
    "        print('Entry ' + str(idx + 1) + '/' + str(n_entries) + '.')\n",
    "\n",
    "print(\"Finished pre-processing review text.\")"
   ]
  },
  {
   "cell_type": "code",
   "execution_count": 11,
   "metadata": {
    "collapsed": false
   },
   "outputs": [
    {
     "name": "stdout",
     "output_type": "stream",
     "text": [
      "Saved to disk!\n"
     ]
    }
   ],
   "source": [
    "df_norm.to_csv(path_or_buf=final_df_name, sep='|')\n",
    "print (\"Saved to disk!\")"
   ]
  }
 ],
 "metadata": {
  "kernelspec": {
   "display_name": "Python 3",
   "language": "python",
   "name": "python3"
  },
  "language_info": {
   "codemirror_mode": {
    "name": "ipython",
    "version": 3
   },
   "file_extension": ".py",
   "mimetype": "text/x-python",
   "name": "python",
   "nbconvert_exporter": "python",
   "pygments_lexer": "ipython3",
   "version": "3.5.4"
  }
 },
 "nbformat": 4,
 "nbformat_minor": 2
}
